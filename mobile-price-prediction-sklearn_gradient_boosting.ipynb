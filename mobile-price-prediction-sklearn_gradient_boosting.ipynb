{
 "cells": [
  {
   "cell_type": "markdown",
   "id": "bc75d9d7",
   "metadata": {
    "papermill": {
     "duration": 0.006284,
     "end_time": "2023-08-17T07:54:11.497826",
     "exception": false,
     "start_time": "2023-08-17T07:54:11.491542",
     "status": "completed"
    },
    "tags": []
   },
   "source": [
    "## Install Library"
   ]
  },
  {
   "cell_type": "code",
   "execution_count": 1,
   "id": "65c25744",
   "metadata": {
    "execution": {
     "iopub.execute_input": "2023-08-17T07:54:11.512190Z",
     "iopub.status.busy": "2023-08-17T07:54:11.511634Z",
     "iopub.status.idle": "2023-08-17T07:54:26.957485Z",
     "shell.execute_reply": "2023-08-17T07:54:26.955914Z"
    },
    "papermill": {
     "duration": 15.456958,
     "end_time": "2023-08-17T07:54:26.961138",
     "exception": false,
     "start_time": "2023-08-17T07:54:11.504180",
     "status": "completed"
    },
    "tags": []
   },
   "outputs": [
    {
     "name": "stdout",
     "output_type": "stream",
     "text": [
      "Requirement already satisfied: scikit-learn in /opt/conda/lib/python3.10/site-packages (1.2.2)\r\n",
      "Requirement already satisfied: numpy>=1.17.3 in /opt/conda/lib/python3.10/site-packages (from scikit-learn) (1.23.5)\r\n",
      "Requirement already satisfied: scipy>=1.3.2 in /opt/conda/lib/python3.10/site-packages (from scikit-learn) (1.11.1)\r\n",
      "Requirement already satisfied: joblib>=1.1.1 in /opt/conda/lib/python3.10/site-packages (from scikit-learn) (1.2.0)\r\n",
      "Requirement already satisfied: threadpoolctl>=2.0.0 in /opt/conda/lib/python3.10/site-packages (from scikit-learn) (3.1.0)\r\n"
     ]
    }
   ],
   "source": [
    "!pip install scikit-learn"
   ]
  },
  {
   "cell_type": "markdown",
   "id": "0de34417",
   "metadata": {
    "papermill": {
     "duration": 0.005511,
     "end_time": "2023-08-17T07:54:26.972650",
     "exception": false,
     "start_time": "2023-08-17T07:54:26.967139",
     "status": "completed"
    },
    "tags": []
   },
   "source": [
    "## import library"
   ]
  },
  {
   "cell_type": "code",
   "execution_count": 2,
   "id": "9560ef32",
   "metadata": {
    "execution": {
     "iopub.execute_input": "2023-08-17T07:54:26.987222Z",
     "iopub.status.busy": "2023-08-17T07:54:26.986764Z",
     "iopub.status.idle": "2023-08-17T07:54:28.912015Z",
     "shell.execute_reply": "2023-08-17T07:54:28.910463Z"
    },
    "papermill": {
     "duration": 1.936752,
     "end_time": "2023-08-17T07:54:28.915202",
     "exception": false,
     "start_time": "2023-08-17T07:54:26.978450",
     "status": "completed"
    },
    "tags": []
   },
   "outputs": [
    {
     "name": "stderr",
     "output_type": "stream",
     "text": [
      "/opt/conda/lib/python3.10/site-packages/scipy/__init__.py:146: UserWarning: A NumPy version >=1.16.5 and <1.23.0 is required for this version of SciPy (detected version 1.23.5\n",
      "  warnings.warn(f\"A NumPy version >={np_minversion} and <{np_maxversion}\"\n"
     ]
    }
   ],
   "source": [
    "import numpy as np\n",
    "import pandas as pd\n",
    "from sklearn.model_selection import train_test_split\n",
    "from sklearn.ensemble import GradientBoostingClassifier\n",
    "from sklearn.metrics import accuracy_score, precision_score, recall_score, average_precision_score,f1_score\n",
    "from sklearn.model_selection import cross_val_score,RepeatedStratifiedKFold"
   ]
  },
  {
   "cell_type": "markdown",
   "id": "1b09e927",
   "metadata": {
    "papermill": {
     "duration": 0.005537,
     "end_time": "2023-08-17T07:54:28.926968",
     "exception": false,
     "start_time": "2023-08-17T07:54:28.921431",
     "status": "completed"
    },
    "tags": []
   },
   "source": [
    "## Load Dataset"
   ]
  },
  {
   "cell_type": "code",
   "execution_count": 3,
   "id": "529c4d11",
   "metadata": {
    "execution": {
     "iopub.execute_input": "2023-08-17T07:54:28.941209Z",
     "iopub.status.busy": "2023-08-17T07:54:28.940737Z",
     "iopub.status.idle": "2023-08-17T07:54:29.027023Z",
     "shell.execute_reply": "2023-08-17T07:54:29.025718Z"
    },
    "papermill": {
     "duration": 0.096734,
     "end_time": "2023-08-17T07:54:29.029872",
     "exception": false,
     "start_time": "2023-08-17T07:54:28.933138",
     "status": "completed"
    },
    "tags": []
   },
   "outputs": [
    {
     "data": {
      "text/html": [
       "<div>\n",
       "<style scoped>\n",
       "    .dataframe tbody tr th:only-of-type {\n",
       "        vertical-align: middle;\n",
       "    }\n",
       "\n",
       "    .dataframe tbody tr th {\n",
       "        vertical-align: top;\n",
       "    }\n",
       "\n",
       "    .dataframe thead th {\n",
       "        text-align: right;\n",
       "    }\n",
       "</style>\n",
       "<table border=\"1\" class=\"dataframe\">\n",
       "  <thead>\n",
       "    <tr style=\"text-align: right;\">\n",
       "      <th></th>\n",
       "      <th>battery_power</th>\n",
       "      <th>blue</th>\n",
       "      <th>clock_speed</th>\n",
       "      <th>dual_sim</th>\n",
       "      <th>fc</th>\n",
       "      <th>four_g</th>\n",
       "      <th>int_memory</th>\n",
       "      <th>m_dep</th>\n",
       "      <th>mobile_wt</th>\n",
       "      <th>n_cores</th>\n",
       "      <th>...</th>\n",
       "      <th>px_height</th>\n",
       "      <th>px_width</th>\n",
       "      <th>ram</th>\n",
       "      <th>sc_h</th>\n",
       "      <th>sc_w</th>\n",
       "      <th>talk_time</th>\n",
       "      <th>three_g</th>\n",
       "      <th>touch_screen</th>\n",
       "      <th>wifi</th>\n",
       "      <th>price_range</th>\n",
       "    </tr>\n",
       "  </thead>\n",
       "  <tbody>\n",
       "    <tr>\n",
       "      <th>0</th>\n",
       "      <td>842</td>\n",
       "      <td>0</td>\n",
       "      <td>2.2</td>\n",
       "      <td>0</td>\n",
       "      <td>1</td>\n",
       "      <td>0</td>\n",
       "      <td>7</td>\n",
       "      <td>0.6</td>\n",
       "      <td>188</td>\n",
       "      <td>2</td>\n",
       "      <td>...</td>\n",
       "      <td>20</td>\n",
       "      <td>756</td>\n",
       "      <td>2549</td>\n",
       "      <td>9</td>\n",
       "      <td>7</td>\n",
       "      <td>19</td>\n",
       "      <td>0</td>\n",
       "      <td>0</td>\n",
       "      <td>1</td>\n",
       "      <td>1</td>\n",
       "    </tr>\n",
       "    <tr>\n",
       "      <th>1</th>\n",
       "      <td>1021</td>\n",
       "      <td>1</td>\n",
       "      <td>0.5</td>\n",
       "      <td>1</td>\n",
       "      <td>0</td>\n",
       "      <td>1</td>\n",
       "      <td>53</td>\n",
       "      <td>0.7</td>\n",
       "      <td>136</td>\n",
       "      <td>3</td>\n",
       "      <td>...</td>\n",
       "      <td>905</td>\n",
       "      <td>1988</td>\n",
       "      <td>2631</td>\n",
       "      <td>17</td>\n",
       "      <td>3</td>\n",
       "      <td>7</td>\n",
       "      <td>1</td>\n",
       "      <td>1</td>\n",
       "      <td>0</td>\n",
       "      <td>2</td>\n",
       "    </tr>\n",
       "    <tr>\n",
       "      <th>2</th>\n",
       "      <td>563</td>\n",
       "      <td>1</td>\n",
       "      <td>0.5</td>\n",
       "      <td>1</td>\n",
       "      <td>2</td>\n",
       "      <td>1</td>\n",
       "      <td>41</td>\n",
       "      <td>0.9</td>\n",
       "      <td>145</td>\n",
       "      <td>5</td>\n",
       "      <td>...</td>\n",
       "      <td>1263</td>\n",
       "      <td>1716</td>\n",
       "      <td>2603</td>\n",
       "      <td>11</td>\n",
       "      <td>2</td>\n",
       "      <td>9</td>\n",
       "      <td>1</td>\n",
       "      <td>1</td>\n",
       "      <td>0</td>\n",
       "      <td>2</td>\n",
       "    </tr>\n",
       "    <tr>\n",
       "      <th>3</th>\n",
       "      <td>615</td>\n",
       "      <td>1</td>\n",
       "      <td>2.5</td>\n",
       "      <td>0</td>\n",
       "      <td>0</td>\n",
       "      <td>0</td>\n",
       "      <td>10</td>\n",
       "      <td>0.8</td>\n",
       "      <td>131</td>\n",
       "      <td>6</td>\n",
       "      <td>...</td>\n",
       "      <td>1216</td>\n",
       "      <td>1786</td>\n",
       "      <td>2769</td>\n",
       "      <td>16</td>\n",
       "      <td>8</td>\n",
       "      <td>11</td>\n",
       "      <td>1</td>\n",
       "      <td>0</td>\n",
       "      <td>0</td>\n",
       "      <td>2</td>\n",
       "    </tr>\n",
       "    <tr>\n",
       "      <th>4</th>\n",
       "      <td>1821</td>\n",
       "      <td>1</td>\n",
       "      <td>1.2</td>\n",
       "      <td>0</td>\n",
       "      <td>13</td>\n",
       "      <td>1</td>\n",
       "      <td>44</td>\n",
       "      <td>0.6</td>\n",
       "      <td>141</td>\n",
       "      <td>2</td>\n",
       "      <td>...</td>\n",
       "      <td>1208</td>\n",
       "      <td>1212</td>\n",
       "      <td>1411</td>\n",
       "      <td>8</td>\n",
       "      <td>2</td>\n",
       "      <td>15</td>\n",
       "      <td>1</td>\n",
       "      <td>1</td>\n",
       "      <td>0</td>\n",
       "      <td>1</td>\n",
       "    </tr>\n",
       "  </tbody>\n",
       "</table>\n",
       "<p>5 rows × 21 columns</p>\n",
       "</div>"
      ],
      "text/plain": [
       "   battery_power  blue  clock_speed  dual_sim  fc  four_g  int_memory  m_dep  \\\n",
       "0            842     0          2.2         0   1       0           7    0.6   \n",
       "1           1021     1          0.5         1   0       1          53    0.7   \n",
       "2            563     1          0.5         1   2       1          41    0.9   \n",
       "3            615     1          2.5         0   0       0          10    0.8   \n",
       "4           1821     1          1.2         0  13       1          44    0.6   \n",
       "\n",
       "   mobile_wt  n_cores  ...  px_height  px_width   ram  sc_h  sc_w  talk_time  \\\n",
       "0        188        2  ...         20       756  2549     9     7         19   \n",
       "1        136        3  ...        905      1988  2631    17     3          7   \n",
       "2        145        5  ...       1263      1716  2603    11     2          9   \n",
       "3        131        6  ...       1216      1786  2769    16     8         11   \n",
       "4        141        2  ...       1208      1212  1411     8     2         15   \n",
       "\n",
       "   three_g  touch_screen  wifi  price_range  \n",
       "0        0             0     1            1  \n",
       "1        1             1     0            2  \n",
       "2        1             1     0            2  \n",
       "3        1             0     0            2  \n",
       "4        1             1     0            1  \n",
       "\n",
       "[5 rows x 21 columns]"
      ]
     },
     "execution_count": 3,
     "metadata": {},
     "output_type": "execute_result"
    }
   ],
   "source": [
    "train_ds = pd.read_csv(\"/kaggle/input/mobile-price-classification/train.csv\")\n",
    "train_ds.head(5)"
   ]
  },
  {
   "cell_type": "code",
   "execution_count": 4,
   "id": "e0379491",
   "metadata": {
    "execution": {
     "iopub.execute_input": "2023-08-17T07:54:29.045442Z",
     "iopub.status.busy": "2023-08-17T07:54:29.044974Z",
     "iopub.status.idle": "2023-08-17T07:54:29.086121Z",
     "shell.execute_reply": "2023-08-17T07:54:29.084647Z"
    },
    "papermill": {
     "duration": 0.052027,
     "end_time": "2023-08-17T07:54:29.088885",
     "exception": false,
     "start_time": "2023-08-17T07:54:29.036858",
     "status": "completed"
    },
    "tags": []
   },
   "outputs": [
    {
     "data": {
      "text/html": [
       "<div>\n",
       "<style scoped>\n",
       "    .dataframe tbody tr th:only-of-type {\n",
       "        vertical-align: middle;\n",
       "    }\n",
       "\n",
       "    .dataframe tbody tr th {\n",
       "        vertical-align: top;\n",
       "    }\n",
       "\n",
       "    .dataframe thead th {\n",
       "        text-align: right;\n",
       "    }\n",
       "</style>\n",
       "<table border=\"1\" class=\"dataframe\">\n",
       "  <thead>\n",
       "    <tr style=\"text-align: right;\">\n",
       "      <th></th>\n",
       "      <th>id</th>\n",
       "      <th>battery_power</th>\n",
       "      <th>blue</th>\n",
       "      <th>clock_speed</th>\n",
       "      <th>dual_sim</th>\n",
       "      <th>fc</th>\n",
       "      <th>four_g</th>\n",
       "      <th>int_memory</th>\n",
       "      <th>m_dep</th>\n",
       "      <th>mobile_wt</th>\n",
       "      <th>...</th>\n",
       "      <th>pc</th>\n",
       "      <th>px_height</th>\n",
       "      <th>px_width</th>\n",
       "      <th>ram</th>\n",
       "      <th>sc_h</th>\n",
       "      <th>sc_w</th>\n",
       "      <th>talk_time</th>\n",
       "      <th>three_g</th>\n",
       "      <th>touch_screen</th>\n",
       "      <th>wifi</th>\n",
       "    </tr>\n",
       "  </thead>\n",
       "  <tbody>\n",
       "    <tr>\n",
       "      <th>0</th>\n",
       "      <td>1</td>\n",
       "      <td>1043</td>\n",
       "      <td>1</td>\n",
       "      <td>1.8</td>\n",
       "      <td>1</td>\n",
       "      <td>14</td>\n",
       "      <td>0</td>\n",
       "      <td>5</td>\n",
       "      <td>0.1</td>\n",
       "      <td>193</td>\n",
       "      <td>...</td>\n",
       "      <td>16</td>\n",
       "      <td>226</td>\n",
       "      <td>1412</td>\n",
       "      <td>3476</td>\n",
       "      <td>12</td>\n",
       "      <td>7</td>\n",
       "      <td>2</td>\n",
       "      <td>0</td>\n",
       "      <td>1</td>\n",
       "      <td>0</td>\n",
       "    </tr>\n",
       "    <tr>\n",
       "      <th>1</th>\n",
       "      <td>2</td>\n",
       "      <td>841</td>\n",
       "      <td>1</td>\n",
       "      <td>0.5</td>\n",
       "      <td>1</td>\n",
       "      <td>4</td>\n",
       "      <td>1</td>\n",
       "      <td>61</td>\n",
       "      <td>0.8</td>\n",
       "      <td>191</td>\n",
       "      <td>...</td>\n",
       "      <td>12</td>\n",
       "      <td>746</td>\n",
       "      <td>857</td>\n",
       "      <td>3895</td>\n",
       "      <td>6</td>\n",
       "      <td>0</td>\n",
       "      <td>7</td>\n",
       "      <td>1</td>\n",
       "      <td>0</td>\n",
       "      <td>0</td>\n",
       "    </tr>\n",
       "    <tr>\n",
       "      <th>2</th>\n",
       "      <td>3</td>\n",
       "      <td>1807</td>\n",
       "      <td>1</td>\n",
       "      <td>2.8</td>\n",
       "      <td>0</td>\n",
       "      <td>1</td>\n",
       "      <td>0</td>\n",
       "      <td>27</td>\n",
       "      <td>0.9</td>\n",
       "      <td>186</td>\n",
       "      <td>...</td>\n",
       "      <td>4</td>\n",
       "      <td>1270</td>\n",
       "      <td>1366</td>\n",
       "      <td>2396</td>\n",
       "      <td>17</td>\n",
       "      <td>10</td>\n",
       "      <td>10</td>\n",
       "      <td>0</td>\n",
       "      <td>1</td>\n",
       "      <td>1</td>\n",
       "    </tr>\n",
       "    <tr>\n",
       "      <th>3</th>\n",
       "      <td>4</td>\n",
       "      <td>1546</td>\n",
       "      <td>0</td>\n",
       "      <td>0.5</td>\n",
       "      <td>1</td>\n",
       "      <td>18</td>\n",
       "      <td>1</td>\n",
       "      <td>25</td>\n",
       "      <td>0.5</td>\n",
       "      <td>96</td>\n",
       "      <td>...</td>\n",
       "      <td>20</td>\n",
       "      <td>295</td>\n",
       "      <td>1752</td>\n",
       "      <td>3893</td>\n",
       "      <td>10</td>\n",
       "      <td>0</td>\n",
       "      <td>7</td>\n",
       "      <td>1</td>\n",
       "      <td>1</td>\n",
       "      <td>0</td>\n",
       "    </tr>\n",
       "    <tr>\n",
       "      <th>4</th>\n",
       "      <td>5</td>\n",
       "      <td>1434</td>\n",
       "      <td>0</td>\n",
       "      <td>1.4</td>\n",
       "      <td>0</td>\n",
       "      <td>11</td>\n",
       "      <td>1</td>\n",
       "      <td>49</td>\n",
       "      <td>0.5</td>\n",
       "      <td>108</td>\n",
       "      <td>...</td>\n",
       "      <td>18</td>\n",
       "      <td>749</td>\n",
       "      <td>810</td>\n",
       "      <td>1773</td>\n",
       "      <td>15</td>\n",
       "      <td>8</td>\n",
       "      <td>7</td>\n",
       "      <td>1</td>\n",
       "      <td>0</td>\n",
       "      <td>1</td>\n",
       "    </tr>\n",
       "  </tbody>\n",
       "</table>\n",
       "<p>5 rows × 21 columns</p>\n",
       "</div>"
      ],
      "text/plain": [
       "   id  battery_power  blue  clock_speed  dual_sim  fc  four_g  int_memory  \\\n",
       "0   1           1043     1          1.8         1  14       0           5   \n",
       "1   2            841     1          0.5         1   4       1          61   \n",
       "2   3           1807     1          2.8         0   1       0          27   \n",
       "3   4           1546     0          0.5         1  18       1          25   \n",
       "4   5           1434     0          1.4         0  11       1          49   \n",
       "\n",
       "   m_dep  mobile_wt  ...  pc  px_height  px_width   ram  sc_h  sc_w  \\\n",
       "0    0.1        193  ...  16        226      1412  3476    12     7   \n",
       "1    0.8        191  ...  12        746       857  3895     6     0   \n",
       "2    0.9        186  ...   4       1270      1366  2396    17    10   \n",
       "3    0.5         96  ...  20        295      1752  3893    10     0   \n",
       "4    0.5        108  ...  18        749       810  1773    15     8   \n",
       "\n",
       "   talk_time  three_g  touch_screen  wifi  \n",
       "0          2        0             1     0  \n",
       "1          7        1             0     0  \n",
       "2         10        0             1     1  \n",
       "3          7        1             1     0  \n",
       "4          7        1             0     1  \n",
       "\n",
       "[5 rows x 21 columns]"
      ]
     },
     "execution_count": 4,
     "metadata": {},
     "output_type": "execute_result"
    }
   ],
   "source": [
    "test_ds = pd.read_csv(\"/kaggle/input/mobile-price-classification/test.csv\")\n",
    "test_ds.head(5)"
   ]
  },
  {
   "cell_type": "markdown",
   "id": "7de4af11",
   "metadata": {
    "papermill": {
     "duration": 0.006603,
     "end_time": "2023-08-17T07:54:29.102571",
     "exception": false,
     "start_time": "2023-08-17T07:54:29.095968",
     "status": "completed"
    },
    "tags": []
   },
   "source": [
    "# Pre-training Statistical Analysis"
   ]
  },
  {
   "cell_type": "code",
   "execution_count": 5,
   "id": "e4efb4f0",
   "metadata": {
    "execution": {
     "iopub.execute_input": "2023-08-17T07:54:29.117907Z",
     "iopub.status.busy": "2023-08-17T07:54:29.117472Z",
     "iopub.status.idle": "2023-08-17T07:54:29.138658Z",
     "shell.execute_reply": "2023-08-17T07:54:29.136912Z"
    },
    "papermill": {
     "duration": 0.031874,
     "end_time": "2023-08-17T07:54:29.141256",
     "exception": false,
     "start_time": "2023-08-17T07:54:29.109382",
     "status": "completed"
    },
    "tags": []
   },
   "outputs": [
    {
     "name": "stdout",
     "output_type": "stream",
     "text": [
      "       price_range\n",
      "count  2000.000000\n",
      "mean      1.500000\n",
      "std       1.118314\n",
      "min       0.000000\n",
      "25%       0.750000\n",
      "50%       1.500000\n",
      "75%       2.250000\n",
      "max       3.000000\n"
     ]
    }
   ],
   "source": [
    "# Check statistics of price range\n",
    "print(train_ds[[\"price_range\"]].describe())"
   ]
  },
  {
   "cell_type": "code",
   "execution_count": 6,
   "id": "3b0b7c2e",
   "metadata": {
    "execution": {
     "iopub.execute_input": "2023-08-17T07:54:29.157894Z",
     "iopub.status.busy": "2023-08-17T07:54:29.157451Z",
     "iopub.status.idle": "2023-08-17T07:54:29.169128Z",
     "shell.execute_reply": "2023-08-17T07:54:29.168197Z"
    },
    "papermill": {
     "duration": 0.023128,
     "end_time": "2023-08-17T07:54:29.171652",
     "exception": false,
     "start_time": "2023-08-17T07:54:29.148524",
     "status": "completed"
    },
    "tags": []
   },
   "outputs": [
    {
     "name": "stdout",
     "output_type": "stream",
     "text": [
      "1    500\n",
      "2    500\n",
      "3    500\n",
      "0    500\n",
      "Name: price_range, dtype: int64\n"
     ]
    }
   ],
   "source": [
    "# Check distribution of result\n",
    "print(train_ds[\"price_range\"].value_counts())\n",
    "\n",
    "# If the labels are imbalanced, we can use balanced_accuracy_score in sklearn_metrics"
   ]
  },
  {
   "cell_type": "markdown",
   "id": "9ffddb81",
   "metadata": {
    "papermill": {
     "duration": 0.006746,
     "end_time": "2023-08-17T07:54:29.187287",
     "exception": false,
     "start_time": "2023-08-17T07:54:29.180541",
     "status": "completed"
    },
    "tags": []
   },
   "source": [
    "## Prepare data"
   ]
  },
  {
   "cell_type": "code",
   "execution_count": 7,
   "id": "9259ab7e",
   "metadata": {
    "execution": {
     "iopub.execute_input": "2023-08-17T07:54:29.203786Z",
     "iopub.status.busy": "2023-08-17T07:54:29.203380Z",
     "iopub.status.idle": "2023-08-17T07:54:29.220490Z",
     "shell.execute_reply": "2023-08-17T07:54:29.218986Z"
    },
    "papermill": {
     "duration": 0.030251,
     "end_time": "2023-08-17T07:54:29.224484",
     "exception": false,
     "start_time": "2023-08-17T07:54:29.194233",
     "status": "completed"
    },
    "tags": []
   },
   "outputs": [
    {
     "name": "stdout",
     "output_type": "stream",
     "text": [
      "X_train_all shape: (1600, 20)\n",
      "X_train shape: (1280, 20)\n",
      "X_val shape: (320, 20)\n",
      "X_test shape: (400, 20)\n",
      "\n",
      "y_train_all shape: (1600, 1)\n",
      "y_train shape: (1280, 1)\n",
      "y_val shape: (320, 1)\n",
      "y_test shape: (400, 1)\n"
     ]
    }
   ],
   "source": [
    "X = train_ds.loc[:,train_ds.columns != \"price_range\"]\n",
    "y = train_ds.loc[:,train_ds.columns == \"price_range\"]\n",
    "\n",
    "X_train_all, X_test,y_train_all,y_test = train_test_split(X,y,test_size = 0.2, random_state = 42)\n",
    "X_train, X_val, y_train,y_val = train_test_split(X_train_all,y_train_all, test_size = 0.2, random_state = 42)\n",
    "\n",
    "print(f\"X_train_all shape: {X_train_all.shape}\")\n",
    "print(f\"X_train shape: {X_train.shape}\")\n",
    "print(f\"X_val shape: {X_val.shape}\")\n",
    "print(f\"X_test shape: {X_test.shape}\")\n",
    "print(\"\")\n",
    "print(f\"y_train_all shape: {y_train_all.shape}\")\n",
    "print(f\"y_train shape: {y_train.shape}\")\n",
    "print(f\"y_val shape: {y_val.shape}\")\n",
    "print(f\"y_test shape: {y_test.shape}\")"
   ]
  },
  {
   "cell_type": "markdown",
   "id": "11f95476",
   "metadata": {
    "papermill": {
     "duration": 0.006949,
     "end_time": "2023-08-17T07:54:29.239627",
     "exception": false,
     "start_time": "2023-08-17T07:54:29.232678",
     "status": "completed"
    },
    "tags": []
   },
   "source": [
    "## scikit-learn Gradient Boosting Classifier (Without Cross-validation)"
   ]
  },
  {
   "cell_type": "code",
   "execution_count": 8,
   "id": "78b04f18",
   "metadata": {
    "execution": {
     "iopub.execute_input": "2023-08-17T07:54:29.256130Z",
     "iopub.status.busy": "2023-08-17T07:54:29.255696Z",
     "iopub.status.idle": "2023-08-17T07:54:31.317633Z",
     "shell.execute_reply": "2023-08-17T07:54:31.316306Z"
    },
    "papermill": {
     "duration": 2.073855,
     "end_time": "2023-08-17T07:54:31.320643",
     "exception": false,
     "start_time": "2023-08-17T07:54:29.246788",
     "status": "completed"
    },
    "tags": []
   },
   "outputs": [
    {
     "name": "stderr",
     "output_type": "stream",
     "text": [
      "/opt/conda/lib/python3.10/site-packages/sklearn/ensemble/_gb.py:437: DataConversionWarning: A column-vector y was passed when a 1d array was expected. Please change the shape of y to (n_samples, ), for example using ravel().\n",
      "  y = column_or_1d(y, warn=True)\n"
     ]
    },
    {
     "data": {
      "text/html": [
       "<style>#sk-container-id-1 {color: black;background-color: white;}#sk-container-id-1 pre{padding: 0;}#sk-container-id-1 div.sk-toggleable {background-color: white;}#sk-container-id-1 label.sk-toggleable__label {cursor: pointer;display: block;width: 100%;margin-bottom: 0;padding: 0.3em;box-sizing: border-box;text-align: center;}#sk-container-id-1 label.sk-toggleable__label-arrow:before {content: \"▸\";float: left;margin-right: 0.25em;color: #696969;}#sk-container-id-1 label.sk-toggleable__label-arrow:hover:before {color: black;}#sk-container-id-1 div.sk-estimator:hover label.sk-toggleable__label-arrow:before {color: black;}#sk-container-id-1 div.sk-toggleable__content {max-height: 0;max-width: 0;overflow: hidden;text-align: left;background-color: #f0f8ff;}#sk-container-id-1 div.sk-toggleable__content pre {margin: 0.2em;color: black;border-radius: 0.25em;background-color: #f0f8ff;}#sk-container-id-1 input.sk-toggleable__control:checked~div.sk-toggleable__content {max-height: 200px;max-width: 100%;overflow: auto;}#sk-container-id-1 input.sk-toggleable__control:checked~label.sk-toggleable__label-arrow:before {content: \"▾\";}#sk-container-id-1 div.sk-estimator input.sk-toggleable__control:checked~label.sk-toggleable__label {background-color: #d4ebff;}#sk-container-id-1 div.sk-label input.sk-toggleable__control:checked~label.sk-toggleable__label {background-color: #d4ebff;}#sk-container-id-1 input.sk-hidden--visually {border: 0;clip: rect(1px 1px 1px 1px);clip: rect(1px, 1px, 1px, 1px);height: 1px;margin: -1px;overflow: hidden;padding: 0;position: absolute;width: 1px;}#sk-container-id-1 div.sk-estimator {font-family: monospace;background-color: #f0f8ff;border: 1px dotted black;border-radius: 0.25em;box-sizing: border-box;margin-bottom: 0.5em;}#sk-container-id-1 div.sk-estimator:hover {background-color: #d4ebff;}#sk-container-id-1 div.sk-parallel-item::after {content: \"\";width: 100%;border-bottom: 1px solid gray;flex-grow: 1;}#sk-container-id-1 div.sk-label:hover label.sk-toggleable__label {background-color: #d4ebff;}#sk-container-id-1 div.sk-serial::before {content: \"\";position: absolute;border-left: 1px solid gray;box-sizing: border-box;top: 0;bottom: 0;left: 50%;z-index: 0;}#sk-container-id-1 div.sk-serial {display: flex;flex-direction: column;align-items: center;background-color: white;padding-right: 0.2em;padding-left: 0.2em;position: relative;}#sk-container-id-1 div.sk-item {position: relative;z-index: 1;}#sk-container-id-1 div.sk-parallel {display: flex;align-items: stretch;justify-content: center;background-color: white;position: relative;}#sk-container-id-1 div.sk-item::before, #sk-container-id-1 div.sk-parallel-item::before {content: \"\";position: absolute;border-left: 1px solid gray;box-sizing: border-box;top: 0;bottom: 0;left: 50%;z-index: -1;}#sk-container-id-1 div.sk-parallel-item {display: flex;flex-direction: column;z-index: 1;position: relative;background-color: white;}#sk-container-id-1 div.sk-parallel-item:first-child::after {align-self: flex-end;width: 50%;}#sk-container-id-1 div.sk-parallel-item:last-child::after {align-self: flex-start;width: 50%;}#sk-container-id-1 div.sk-parallel-item:only-child::after {width: 0;}#sk-container-id-1 div.sk-dashed-wrapped {border: 1px dashed gray;margin: 0 0.4em 0.5em 0.4em;box-sizing: border-box;padding-bottom: 0.4em;background-color: white;}#sk-container-id-1 div.sk-label label {font-family: monospace;font-weight: bold;display: inline-block;line-height: 1.2em;}#sk-container-id-1 div.sk-label-container {text-align: center;}#sk-container-id-1 div.sk-container {/* jupyter's `normalize.less` sets `[hidden] { display: none; }` but bootstrap.min.css set `[hidden] { display: none !important; }` so we also need the `!important` here to be able to override the default hidden behavior on the sphinx rendered scikit-learn.org. See: https://github.com/scikit-learn/scikit-learn/issues/21755 */display: inline-block !important;position: relative;}#sk-container-id-1 div.sk-text-repr-fallback {display: none;}</style><div id=\"sk-container-id-1\" class=\"sk-top-container\"><div class=\"sk-text-repr-fallback\"><pre>GradientBoostingClassifier()</pre><b>In a Jupyter environment, please rerun this cell to show the HTML representation or trust the notebook. <br />On GitHub, the HTML representation is unable to render, please try loading this page with nbviewer.org.</b></div><div class=\"sk-container\" hidden><div class=\"sk-item\"><div class=\"sk-estimator sk-toggleable\"><input class=\"sk-toggleable__control sk-hidden--visually\" id=\"sk-estimator-id-1\" type=\"checkbox\" checked><label for=\"sk-estimator-id-1\" class=\"sk-toggleable__label sk-toggleable__label-arrow\">GradientBoostingClassifier</label><div class=\"sk-toggleable__content\"><pre>GradientBoostingClassifier()</pre></div></div></div></div></div>"
      ],
      "text/plain": [
       "GradientBoostingClassifier()"
      ]
     },
     "execution_count": 8,
     "metadata": {},
     "output_type": "execute_result"
    }
   ],
   "source": [
    "# Model Training and Fitting\n",
    "sk_gbr = GradientBoostingClassifier()\n",
    "sk_gbr.fit(X_train,y_train)"
   ]
  },
  {
   "cell_type": "code",
   "execution_count": 9,
   "id": "3b105391",
   "metadata": {
    "execution": {
     "iopub.execute_input": "2023-08-17T07:54:31.339146Z",
     "iopub.status.busy": "2023-08-17T07:54:31.338708Z",
     "iopub.status.idle": "2023-08-17T07:54:31.366628Z",
     "shell.execute_reply": "2023-08-17T07:54:31.365158Z"
    },
    "papermill": {
     "duration": 0.040414,
     "end_time": "2023-08-17T07:54:31.369419",
     "exception": false,
     "start_time": "2023-08-17T07:54:31.329005",
     "status": "completed"
    },
    "tags": []
   },
   "outputs": [
    {
     "name": "stdout",
     "output_type": "stream",
     "text": [
      "Accuracy Score (Validation Set): 0.9125\n",
      "Weighted F1 Score (Validation Set): 0.912169037858693\n"
     ]
    }
   ],
   "source": [
    "# Valiation\n",
    "y_val_pred = sk_gbr.predict(X_val)\n",
    "\n",
    "# Model performance evaluation\n",
    "print(f\"Accuracy Score (Validation Set): {accuracy_score(y_val,y_val_pred)}\")\n",
    "print(f\"Weighted F1 Score (Validation Set): {f1_score(y_val,y_val_pred,average = 'weighted')}\")"
   ]
  },
  {
   "cell_type": "code",
   "execution_count": 10,
   "id": "8c5b0fb6",
   "metadata": {
    "execution": {
     "iopub.execute_input": "2023-08-17T07:54:31.388524Z",
     "iopub.status.busy": "2023-08-17T07:54:31.387989Z",
     "iopub.status.idle": "2023-08-17T07:54:31.415828Z",
     "shell.execute_reply": "2023-08-17T07:54:31.414507Z"
    },
    "papermill": {
     "duration": 0.041234,
     "end_time": "2023-08-17T07:54:31.418932",
     "exception": false,
     "start_time": "2023-08-17T07:54:31.377698",
     "status": "completed"
    },
    "tags": []
   },
   "outputs": [
    {
     "name": "stdout",
     "output_type": "stream",
     "text": [
      "Accuracy Score (Test Set): 0.895\n",
      "Weighted F1 Score (Test Set): 0.8958315508179759\n"
     ]
    }
   ],
   "source": [
    "# Test with unseen data\n",
    "y_test_pred = sk_gbr.predict(X_test)\n",
    "\n",
    "# Model performance evaluation\n",
    "print(f\"Accuracy Score (Test Set): {accuracy_score(y_test,y_test_pred)}\")\n",
    "print(f\"Weighted F1 Score (Test Set): {f1_score(y_test,y_test_pred,average = 'weighted')}\")"
   ]
  },
  {
   "cell_type": "markdown",
   "id": "cc53a9de",
   "metadata": {
    "papermill": {
     "duration": 0.008082,
     "end_time": "2023-08-17T07:54:31.435595",
     "exception": false,
     "start_time": "2023-08-17T07:54:31.427513",
     "status": "completed"
    },
    "tags": []
   },
   "source": [
    "## scikit-learn Gradient Boosting Classifier (With Cross-validation)"
   ]
  },
  {
   "cell_type": "code",
   "execution_count": 11,
   "id": "15e635f0",
   "metadata": {
    "execution": {
     "iopub.execute_input": "2023-08-17T07:54:31.455170Z",
     "iopub.status.busy": "2023-08-17T07:54:31.454062Z",
     "iopub.status.idle": "2023-08-17T07:55:04.377896Z",
     "shell.execute_reply": "2023-08-17T07:55:04.376559Z"
    },
    "papermill": {
     "duration": 32.936446,
     "end_time": "2023-08-17T07:55:04.380856",
     "exception": false,
     "start_time": "2023-08-17T07:54:31.444410",
     "status": "completed"
    },
    "tags": []
   },
   "outputs": [
    {
     "name": "stdout",
     "output_type": "stream",
     "text": [
      "10-fold Accuracy: [0.909375 0.878125 0.925    0.90625  0.88125  0.896875 0.8875   0.896875\n",
      " 0.915625 0.90625  0.9      0.9      0.884375 0.890625 0.90625 ]\n",
      "Mean Accuracy: 0.8989583333333334\n",
      "Stdev Accuracy: 0.012638125740085925\n"
     ]
    },
    {
     "name": "stderr",
     "output_type": "stream",
     "text": [
      "/opt/conda/lib/python3.10/site-packages/sklearn/ensemble/_gb.py:437: DataConversionWarning: A column-vector y was passed when a 1d array was expected. Please change the shape of y to (n_samples, ), for example using ravel().\n",
      "  y = column_or_1d(y, warn=True)\n"
     ]
    },
    {
     "data": {
      "text/html": [
       "<style>#sk-container-id-2 {color: black;background-color: white;}#sk-container-id-2 pre{padding: 0;}#sk-container-id-2 div.sk-toggleable {background-color: white;}#sk-container-id-2 label.sk-toggleable__label {cursor: pointer;display: block;width: 100%;margin-bottom: 0;padding: 0.3em;box-sizing: border-box;text-align: center;}#sk-container-id-2 label.sk-toggleable__label-arrow:before {content: \"▸\";float: left;margin-right: 0.25em;color: #696969;}#sk-container-id-2 label.sk-toggleable__label-arrow:hover:before {color: black;}#sk-container-id-2 div.sk-estimator:hover label.sk-toggleable__label-arrow:before {color: black;}#sk-container-id-2 div.sk-toggleable__content {max-height: 0;max-width: 0;overflow: hidden;text-align: left;background-color: #f0f8ff;}#sk-container-id-2 div.sk-toggleable__content pre {margin: 0.2em;color: black;border-radius: 0.25em;background-color: #f0f8ff;}#sk-container-id-2 input.sk-toggleable__control:checked~div.sk-toggleable__content {max-height: 200px;max-width: 100%;overflow: auto;}#sk-container-id-2 input.sk-toggleable__control:checked~label.sk-toggleable__label-arrow:before {content: \"▾\";}#sk-container-id-2 div.sk-estimator input.sk-toggleable__control:checked~label.sk-toggleable__label {background-color: #d4ebff;}#sk-container-id-2 div.sk-label input.sk-toggleable__control:checked~label.sk-toggleable__label {background-color: #d4ebff;}#sk-container-id-2 input.sk-hidden--visually {border: 0;clip: rect(1px 1px 1px 1px);clip: rect(1px, 1px, 1px, 1px);height: 1px;margin: -1px;overflow: hidden;padding: 0;position: absolute;width: 1px;}#sk-container-id-2 div.sk-estimator {font-family: monospace;background-color: #f0f8ff;border: 1px dotted black;border-radius: 0.25em;box-sizing: border-box;margin-bottom: 0.5em;}#sk-container-id-2 div.sk-estimator:hover {background-color: #d4ebff;}#sk-container-id-2 div.sk-parallel-item::after {content: \"\";width: 100%;border-bottom: 1px solid gray;flex-grow: 1;}#sk-container-id-2 div.sk-label:hover label.sk-toggleable__label {background-color: #d4ebff;}#sk-container-id-2 div.sk-serial::before {content: \"\";position: absolute;border-left: 1px solid gray;box-sizing: border-box;top: 0;bottom: 0;left: 50%;z-index: 0;}#sk-container-id-2 div.sk-serial {display: flex;flex-direction: column;align-items: center;background-color: white;padding-right: 0.2em;padding-left: 0.2em;position: relative;}#sk-container-id-2 div.sk-item {position: relative;z-index: 1;}#sk-container-id-2 div.sk-parallel {display: flex;align-items: stretch;justify-content: center;background-color: white;position: relative;}#sk-container-id-2 div.sk-item::before, #sk-container-id-2 div.sk-parallel-item::before {content: \"\";position: absolute;border-left: 1px solid gray;box-sizing: border-box;top: 0;bottom: 0;left: 50%;z-index: -1;}#sk-container-id-2 div.sk-parallel-item {display: flex;flex-direction: column;z-index: 1;position: relative;background-color: white;}#sk-container-id-2 div.sk-parallel-item:first-child::after {align-self: flex-end;width: 50%;}#sk-container-id-2 div.sk-parallel-item:last-child::after {align-self: flex-start;width: 50%;}#sk-container-id-2 div.sk-parallel-item:only-child::after {width: 0;}#sk-container-id-2 div.sk-dashed-wrapped {border: 1px dashed gray;margin: 0 0.4em 0.5em 0.4em;box-sizing: border-box;padding-bottom: 0.4em;background-color: white;}#sk-container-id-2 div.sk-label label {font-family: monospace;font-weight: bold;display: inline-block;line-height: 1.2em;}#sk-container-id-2 div.sk-label-container {text-align: center;}#sk-container-id-2 div.sk-container {/* jupyter's `normalize.less` sets `[hidden] { display: none; }` but bootstrap.min.css set `[hidden] { display: none !important; }` so we also need the `!important` here to be able to override the default hidden behavior on the sphinx rendered scikit-learn.org. See: https://github.com/scikit-learn/scikit-learn/issues/21755 */display: inline-block !important;position: relative;}#sk-container-id-2 div.sk-text-repr-fallback {display: none;}</style><div id=\"sk-container-id-2\" class=\"sk-top-container\"><div class=\"sk-text-repr-fallback\"><pre>GradientBoostingClassifier(learning_rate=0.15)</pre><b>In a Jupyter environment, please rerun this cell to show the HTML representation or trust the notebook. <br />On GitHub, the HTML representation is unable to render, please try loading this page with nbviewer.org.</b></div><div class=\"sk-container\" hidden><div class=\"sk-item\"><div class=\"sk-estimator sk-toggleable\"><input class=\"sk-toggleable__control sk-hidden--visually\" id=\"sk-estimator-id-2\" type=\"checkbox\" checked><label for=\"sk-estimator-id-2\" class=\"sk-toggleable__label sk-toggleable__label-arrow\">GradientBoostingClassifier</label><div class=\"sk-toggleable__content\"><pre>GradientBoostingClassifier(learning_rate=0.15)</pre></div></div></div></div></div>"
      ],
      "text/plain": [
       "GradientBoostingClassifier(learning_rate=0.15)"
      ]
     },
     "execution_count": 11,
     "metadata": {},
     "output_type": "execute_result"
    }
   ],
   "source": [
    "# 5-fold cross validation\n",
    "cv = RepeatedStratifiedKFold(n_splits = 5,n_repeats = 3, random_state = 42)\n",
    "sk_gbr = GradientBoostingClassifier(learning_rate = 0.15)\n",
    "scores = cross_val_score(sk_gbr, X_train_all, y_train_all.values.ravel(), cv=cv,scoring = \"accuracy\")\n",
    "print(f\"10-fold Accuracy: {scores}\")\n",
    "print(f\"Mean Accuracy: {np.mean(scores)}\")\n",
    "print(f\"Stdev Accuracy: {np.std(scores)}\")\n",
    "\n",
    "# Fit the model the all training data\n",
    "sk_gbr.fit(X_train_all,y_train_all)"
   ]
  },
  {
   "cell_type": "code",
   "execution_count": 12,
   "id": "e99e45b0",
   "metadata": {
    "execution": {
     "iopub.execute_input": "2023-08-17T07:55:04.401831Z",
     "iopub.status.busy": "2023-08-17T07:55:04.400649Z",
     "iopub.status.idle": "2023-08-17T07:55:04.431455Z",
     "shell.execute_reply": "2023-08-17T07:55:04.429991Z"
    },
    "papermill": {
     "duration": 0.044245,
     "end_time": "2023-08-17T07:55:04.434312",
     "exception": false,
     "start_time": "2023-08-17T07:55:04.390067",
     "status": "completed"
    },
    "tags": []
   },
   "outputs": [
    {
     "name": "stdout",
     "output_type": "stream",
     "text": [
      "Accuracy Score (Test Set): 0.9125\n",
      "Weighted F1 Score (Test Set): 0.9126172248803829\n"
     ]
    }
   ],
   "source": [
    "# Test with unseen data\n",
    "y_test_pred = sk_gbr.predict(X_test)\n",
    "\n",
    "# Model performance evaluation\n",
    "print(f\"Accuracy Score (Test Set): {accuracy_score(y_test,y_test_pred)}\")\n",
    "print(f\"Weighted F1 Score (Test Set): {f1_score(y_test,y_test_pred,average = 'weighted')}\")"
   ]
  }
 ],
 "metadata": {
  "kernelspec": {
   "display_name": "Python 3",
   "language": "python",
   "name": "python3"
  },
  "language_info": {
   "codemirror_mode": {
    "name": "ipython",
    "version": 3
   },
   "file_extension": ".py",
   "mimetype": "text/x-python",
   "name": "python",
   "nbconvert_exporter": "python",
   "pygments_lexer": "ipython3",
   "version": "3.10.12"
  },
  "papermill": {
   "default_parameters": {},
   "duration": 66.455051,
   "end_time": "2023-08-17T07:55:05.970770",
   "environment_variables": {},
   "exception": null,
   "input_path": "__notebook__.ipynb",
   "output_path": "__notebook__.ipynb",
   "parameters": {},
   "start_time": "2023-08-17T07:53:59.515719",
   "version": "2.4.0"
  }
 },
 "nbformat": 4,
 "nbformat_minor": 5
}
